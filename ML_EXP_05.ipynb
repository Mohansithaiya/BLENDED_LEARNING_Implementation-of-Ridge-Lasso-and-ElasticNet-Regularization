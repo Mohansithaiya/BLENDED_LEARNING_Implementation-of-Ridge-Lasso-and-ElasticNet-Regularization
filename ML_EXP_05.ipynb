{
 "cells": [
  {
   "cell_type": "markdown",
   "id": "1df955bf-9808-4b26-b1a8-41a76da4046a",
   "metadata": {},
   "source": [
    "### NAME: MOHAN S\n",
    "### REGISTER NUMBER: 212223240094"
   ]
  },
  {
   "cell_type": "code",
   "execution_count": 3,
   "id": "8dddea88-c317-41d2-a743-b873b938363c",
   "metadata": {},
   "outputs": [
    {
     "name": "stdout",
     "output_type": "stream",
     "text": [
      "   diesel  gas  std  turbo  convertible  hardtop  hatchback  sedan  wagon  \\\n",
      "0     0.0  1.0  1.0    0.0          1.0      0.0        0.0    0.0    0.0   \n",
      "1     0.0  1.0  1.0    0.0          1.0      0.0        0.0    0.0    0.0   \n",
      "2     0.0  1.0  1.0    0.0          0.0      0.0        1.0    0.0    0.0   \n",
      "3     0.0  1.0  1.0    0.0          0.0      0.0        0.0    1.0    0.0   \n",
      "4     0.0  1.0  1.0    0.0          0.0      0.0        0.0    1.0    0.0   \n",
      "\n",
      "   4wd  ...  wheelbase  curbweight  enginesize  boreratio  horsepower  \\\n",
      "0  0.0  ...       88.6      2548.0       130.0       3.47       111.0   \n",
      "1  0.0  ...       88.6      2548.0       130.0       3.47       111.0   \n",
      "2  0.0  ...       94.5      2823.0       152.0       2.68       154.0   \n",
      "3  0.0  ...       99.8      2337.0       109.0       3.19       102.0   \n",
      "4  1.0  ...       99.4      2824.0       136.0       3.19       115.0   \n",
      "\n",
      "   carlength  carwidth  citympg  highwaympg    price  \n",
      "0      168.8      64.1     21.0        27.0  13495.0  \n",
      "1      168.8      64.1     21.0        27.0  16500.0  \n",
      "2      171.2      65.5     19.0        26.0  16500.0  \n",
      "3      176.6      66.2     24.0        30.0  13950.0  \n",
      "4      176.6      66.4     18.0        22.0  17450.0  \n",
      "\n",
      "[5 rows x 36 columns]\n",
      "==================================================\n",
      "Ridge - Mean Squared Error: 0.26, R² Score: 0.79\n",
      "Lasso - Mean Squared Error: 0.94, R² Score: 0.25\n",
      "ElasticNet - Mean Squared Error: 0.63, R² Score: 0.49\n",
      "==================================================\n"
     ]
    },
    {
     "data": {
      "image/png": "[encoded data removed]",
      "text/plain": [
       "<Figure size 1200x500 with 2 Axes>"
      ]
     },
     "metadata": {},
     "output_type": "display_data"
    }
   ],
   "source": [
    "# Importing necessary libraries\n",
    "import pandas as pd\n",
    "import numpy as np\n",
    "import matplotlib.pyplot as plt\n",
    "import seaborn as sns\n",
    "from sklearn.model_selection import train_test_split\n",
    "from sklearn.preprocessing import PolynomialFeatures, StandardScaler\n",
    "from sklearn.linear_model import Ridge, Lasso, ElasticNet\n",
    "from sklearn.pipeline import Pipeline\n",
    "from sklearn.metrics import mean_squared_error, r2_score\n",
    "\n",
    "# Load the dataset\n",
    "data = pd.read_csv(\"encoded_car_data (1).csv\")\n",
    "print(data.head())\n",
    "\n",
    "# Data preprocessing\n",
    "# data = data.drop(['CarName', 'car_ID'], axis=1)  # Already encoded, so skipped\n",
    "data = pd.get_dummies(data, drop_first=True)\n",
    "\n",
    "# Splitting the data into features and target variable\n",
    "X = data.drop('price', axis=1)\n",
    "y = data['price']\n",
    "\n",
    "# Standardizing the features\n",
    "scaler = StandardScaler()\n",
    "X = scaler.fit_transform(X)\n",
    "y = scaler.fit_transform(y.values.reshape(-1, 1)).flatten()\n",
    "\n",
    "# Splitting the dataset into training and testing sets\n",
    "X_train, X_test, y_train, y_test = train_test_split(X, y, test_size=0.2, random_state=42)\n",
    "\n",
    "# Define the models\n",
    "models = {\n",
    "    \"Ridge\": Ridge(alpha=1.0),\n",
    "    \"Lasso\": Lasso(alpha=1.0),\n",
    "    \"ElasticNet\": ElasticNet(alpha=1.0, l1_ratio=0.5)\n",
    "}\n",
    "\n",
    "# Dictionary to store results\n",
    "results = {}\n",
    "\n",
    "# Train and evaluate each model\n",
    "for name, model in models.items():\n",
    "    # Create a pipeline with polynomial features and the model\n",
    "    pipeline = Pipeline([\n",
    "        ('poly', PolynomialFeatures(degree=2)),\n",
    "        ('regressor', model)\n",
    "    ])\n",
    "\n",
    "    # Fit the model\n",
    "    pipeline.fit(X_train, y_train)\n",
    "\n",
    "    # Make predictions\n",
    "    predictions = pipeline.predict(X_test)\n",
    "\n",
    "    # Calculate performance metrics\n",
    "    mse = mean_squared_error(y_test, predictions)\n",
    "    r2 = r2_score(y_test, predictions)\n",
    "\n",
    "    # Store results\n",
    "    results[name] = {'MSE': mse, 'R2 Score': r2}\n",
    "\n",
    "# Print results\n",
    "print('=' * 50)\n",
    "for model_name, metrics in results.items():\n",
    "    print(f\"{model_name} - Mean Squared Error: {metrics['MSE']:.2f}, R² Score: {metrics['R2 Score']:.2f}\")\n",
    "print('=' * 50)\n",
    "\n",
    "# Convert results to DataFrame for easier plotting\n",
    "results_df = pd.DataFrame(results).T.reset_index()\n",
    "results_df.rename(columns={'index': 'Model'}, inplace=True)\n",
    "\n",
    "# Set the figure size and create subplots\n",
    "plt.figure(figsize=(12, 5))\n",
    "\n",
    "# Bar plot for MSE\n",
    "plt.subplot(1, 2, 1)\n",
    "sns.barplot(x=\"Model\", y=\"MSE\", hue=\"Model\", data=results_df, palette=\"viridis\", legend=False)\n",
    "plt.title(\"Mean Squared Error (MSE)\")\n",
    "plt.ylabel(\"MSE\")\n",
    "plt.xticks(rotation=45)\n",
    "\n",
    "# Bar plot for R2 Score\n",
    "plt.subplot(1, 2, 2)\n",
    "sns.barplot(x=\"Model\", y=\"R2 Score\", hue=\"Model\", data=results_df, palette=\"viridis\", legend=False)\n",
    "plt.title(\"R² Score\")\n",
    "plt.ylabel(\"R² Score\")\n",
    "plt.xticks(rotation=45)\n",
    "\n",
    "# Show the plots\n",
    "plt.tight_layout()\n",
    "plt.show()\n"
   ]
  },
  {
   "cell_type": "markdown",
   "id": "a875e7e0-14bd-4b09-ae2b-d2abcfc33972",
   "metadata": {},
   "source": [
    "### NAME: MOHAN S\n",
    "### REGISTER NUMBER: 212223240094"
   ]
  },
  {
   "cell_type": "code",
   "execution_count": null,
   "id": "97279f6d-7336-4ade-950d-6b9347777bf7",
   "metadata": {},
   "outputs": [],
   "source": []
  }
 ],
 "metadata": {
  "kernelspec": {
   "display_name": "Python 3 (ipykernel)",
   "language": "python",
   "name": "python3"
  },
  "language_info": {
   "codemirror_mode": {
    "name": "ipython",
    "version": 3
   },
   "file_extension": ".py",
   "mimetype": "text/x-python",
   "name": "python",
   "nbconvert_exporter": "python",
   "pygments_lexer": "ipython3",
   "version": "3.11.11"
  }
 },
 "nbformat": 4,
 "nbformat_minor": 5
}
